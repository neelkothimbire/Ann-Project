{
 "cells": [
  {
   "cell_type": "code",
   "execution_count": 2,
   "id": "8f65dbeb",
   "metadata": {},
   "outputs": [
    {
     "name": "stdout",
     "output_type": "stream",
     "text": [
      "Recalled X: [[1 0 1]\n",
      " [0 1 0]]\n",
      "Recalled X2: [[1 1 0]\n",
      " [0 0 1]]\n"
     ]
    }
   ],
   "source": [
    "import numpy as np\n",
    "\n",
    "class BAM:\n",
    "    def __init__(self):\n",
    "        self.weights = None\n",
    "\n",
    "    def train(self, X, Y):\n",
    "        self.weights = np.dot(Y.T, X)\n",
    "\n",
    "    def recall(self, Y):\n",
    "        recalled_X = np.dot(Y, self.weights)\n",
    "        return recalled_X\n",
    "\n",
    "if __name__ == '__main__':\n",
    "    X = np.array([[1, 0, 1],\n",
    "                  [0, 1, 0]])\n",
    "    Y = np.array([[0, 1],\n",
    "                  [1, 0]])\n",
    "\n",
    "    bam = BAM()\n",
    "    bam.train(X, Y)\n",
    "\n",
    "    test_Y = np.array([[0, 1],\n",
    "                       [1, 0]])\n",
    "    recalled_X = bam.recall(test_Y)\n",
    "    print(\"Recalled X:\", recalled_X)\n",
    "\n",
    "    X2 = np.array([[1, 1, 0],\n",
    "                   [0, 0, 1]])\n",
    "    Y2 = np.array([[1, 0],\n",
    "                   [0, 1]])\n",
    "\n",
    "    bam.train(X2, Y2)\n",
    "\n",
    "    test_Y2 = np.array([[1, 0],\n",
    "                        [0, 1]])\n",
    "    recalled_X2 = bam.recall(test_Y2)\n",
    "    print(\"Recalled X2:\", recalled_X2)\n"
   ]
  },
  {
   "cell_type": "code",
   "execution_count": null,
   "id": "299310ba",
   "metadata": {},
   "outputs": [],
   "source": []
  }
 ],
 "metadata": {
  "kernelspec": {
   "display_name": "Python 3 (ipykernel)",
   "language": "python",
   "name": "python3"
  },
  "language_info": {
   "codemirror_mode": {
    "name": "ipython",
    "version": 3
   },
   "file_extension": ".py",
   "mimetype": "text/x-python",
   "name": "python",
   "nbconvert_exporter": "python",
   "pygments_lexer": "ipython3",
   "version": "3.11.5"
  }
 },
 "nbformat": 4,
 "nbformat_minor": 5
}
