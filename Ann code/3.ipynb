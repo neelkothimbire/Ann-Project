{
 "cells": [
  {
   "cell_type": "code",
   "execution_count": 1,
   "id": "8c2d3657",
   "metadata": {},
   "outputs": [],
   "source": [
    "import numpy as np\n",
    "\n",
    "class McCullochPitts:\n",
    "    def __init__(self,input_size):\n",
    "        self.weights=np.zeros(input_size)\n",
    "        self.bias=0\n",
    "    def predict(self,inputs):\n",
    "        linear_combinations=np.dot(self.weights,inputs)+self.bias\n",
    "        return 1 if linear_combinations>=0 else 0"
   ]
  },
  {
   "cell_type": "code",
   "execution_count": 2,
   "id": "66a375f1",
   "metadata": {},
   "outputs": [],
   "source": [
    "inputs=np.array([[0,0],[0,1],[1,0],[1,1]])\n",
    "expected_outputs=np.array([0,0,1,0])"
   ]
  },
  {
   "cell_type": "code",
   "execution_count": 3,
   "id": "158e68c4",
   "metadata": {},
   "outputs": [],
   "source": [
    "neural_network = McCullochPitts(2)"
   ]
  },
  {
   "cell_type": "code",
   "execution_count": 5,
   "id": "96444f50",
   "metadata": {},
   "outputs": [
    {
     "name": "stdout",
     "output_type": "stream",
     "text": [
      "Inputs:[0 0]\n",
      "ANDNOT output: False\n",
      "Inputs:[0 1]\n",
      "ANDNOT output: False\n",
      "Inputs:[1 0]\n",
      "ANDNOT output: True\n",
      "Inputs:[1 1]\n",
      "ANDNOT output: False\n"
     ]
    }
   ],
   "source": [
    "learning_rate=0.1\n",
    "epochs=10\n",
    "for epoch in range(epochs):\n",
    "    for input,expected_output in zip(inputs,expected_outputs):\n",
    "        prediciton=neural_network.predict(input)\n",
    "        error=expected_output-prediciton\n",
    "        neural_network.weights += learning_rate * error * input\n",
    "        neural_network.bias += learning_rate * error\n",
    "\n",
    "for input in inputs:\n",
    "    print(f'Inputs:{input}')\n",
    "    if neural_network.predict(input)==1:\n",
    "        print(\"ANDNOT output: True\")\n",
    "    else:\n",
    "        print(\"ANDNOT output: False\")"
   ]
  },
  {
   "cell_type": "code",
   "execution_count": null,
   "id": "7e7e43ea",
   "metadata": {},
   "outputs": [],
   "source": []
  }
 ],
 "metadata": {
  "kernelspec": {
   "display_name": "Python 3 (ipykernel)",
   "language": "python",
   "name": "python3"
  },
  "language_info": {
   "codemirror_mode": {
    "name": "ipython",
    "version": 3
   },
   "file_extension": ".py",
   "mimetype": "text/x-python",
   "name": "python",
   "nbconvert_exporter": "python",
   "pygments_lexer": "ipython3",
   "version": "3.11.5"
  }
 },
 "nbformat": 4,
 "nbformat_minor": 5
}
