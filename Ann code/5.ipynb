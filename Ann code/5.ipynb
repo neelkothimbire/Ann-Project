{
 "cells": [
  {
   "cell_type": "code",
   "execution_count": 2,
   "id": "75060136",
   "metadata": {},
   "outputs": [],
   "source": [
    "import numpy as np\n",
    "import matplotlib.pyplot as plt"
   ]
  },
  {
   "cell_type": "code",
   "execution_count": 14,
   "id": "90763aa9",
   "metadata": {},
   "outputs": [],
   "source": [
    "class Perceptron:\n",
    "    def __init__(self,lr=0.1,n_iter=100):\n",
    "        self.lr=lr\n",
    "        self.n_iter=n_iter\n",
    "        self.weights=None\n",
    "        self.bias=None\n",
    "        \n",
    "    def fit(self,x,y):\n",
    "        self.weights=np.zeros(x.shape[1])\n",
    "        self.bias=1\n",
    "        \n",
    "        for i in range (self.n_iter):\n",
    "            for j in range(X.shape[0]):\n",
    "                pred=self.predict(x[j])\n",
    "                \n",
    "                if pred != y[j]:\n",
    "                    self.weights+=self.lr*y[j]*x[j]\n",
    "                    self.bias+=self.lr+y[j]\n",
    "    \n",
    "    def predict(self,x):\n",
    "        output=np.dot(x,self.weights)+self.bias\n",
    "        return np.where(output>=0,1,-1)"
   ]
  },
  {
   "cell_type": "code",
   "execution_count": 15,
   "id": "89770c57",
   "metadata": {},
   "outputs": [],
   "source": [
    "X = np.array([[2, 2], [4, 4], [4, 0], [3, 2], [8, 4], [8, 0]])\n",
    "y = np.array([1, 1, -1, 1, -1, -1])\n"
   ]
  },
  {
   "cell_type": "code",
   "execution_count": 16,
   "id": "b94fc5e9",
   "metadata": {},
   "outputs": [],
   "source": [
    "model = Perceptron()\n",
    "model.fit(X, y)"
   ]
  },
  {
   "cell_type": "code",
   "execution_count": 17,
   "id": "6ee47375",
   "metadata": {},
   "outputs": [
    {
     "data": {
      "image/png": "[encoded data removed]",
      "text/plain": [
       "<Figure size 640x480 with 1 Axes>"
      ]
     },
     "metadata": {},
     "output_type": "display_data"
    }
   ],
   "source": [
    "plt.scatter(X[:, 0], X[:, 1], c=y)\n",
    "plt.xlim(0, 10)\n",
    "plt.ylim(0, 5)\n",
    "x1 = np.linspace(0, 10)\n",
    "x2 = -(model.weights[0]*x1 + model.bias)/model.weights[1]\n",
    "plt.plot(x1, x2, '-r')\n",
    "plt.show()"
   ]
  },
  {
   "cell_type": "code",
   "execution_count": null,
   "id": "b98e6f8f",
   "metadata": {},
   "outputs": [],
   "source": []
  }
 ],
 "metadata": {
  "kernelspec": {
   "display_name": "Python 3 (ipykernel)",
   "language": "python",
   "name": "python3"
  },
  "language_info": {
   "codemirror_mode": {
    "name": "ipython",
    "version": 3
   },
   "file_extension": ".py",
   "mimetype": "text/x-python",
   "name": "python",
   "nbconvert_exporter": "python",
   "pygments_lexer": "ipython3",
   "version": "3.11.5"
  }
 },
 "nbformat": 4,
 "nbformat_minor": 5
}
